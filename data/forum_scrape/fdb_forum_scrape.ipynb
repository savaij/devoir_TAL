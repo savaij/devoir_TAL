{
 "cells": [
  {
   "cell_type": "code",
   "execution_count": 34,
   "metadata": {},
   "outputs": [],
   "source": [
    "import requests\n",
    "from bs4 import BeautifulSoup\n",
    "from tqdm import tqdm\n",
    "import csv\n",
    "import json\n",
    "import pandas as pd"
   ]
  },
  {
   "cell_type": "code",
   "execution_count": 2,
   "metadata": {},
   "outputs": [],
   "source": [
    "root_url = 'https://ilforumdeibrutti.is/index.php?forums/una-vita-da-brutto.6/'"
   ]
  },
  {
   "cell_type": "code",
   "execution_count": 3,
   "metadata": {},
   "outputs": [],
   "source": [
    "r = requests.get(root_url)"
   ]
  },
  {
   "cell_type": "code",
   "execution_count": 4,
   "metadata": {},
   "outputs": [],
   "source": [
    "soup = BeautifulSoup(r.content, 'html.parser')"
   ]
  },
  {
   "cell_type": "markdown",
   "metadata": {},
   "source": [
    "# Get all links"
   ]
  },
  {
   "cell_type": "code",
   "execution_count": 24,
   "metadata": {},
   "outputs": [],
   "source": [
    "def get_all_links(root_url):\n",
    "    '''\n",
    "    Funzione che prende tutte le pagine a partire dal link della pagina 1 del forum o del thread\n",
    "    '''\n",
    "\n",
    "    links = [root_url]\n",
    "    r = requests.get(root_url)\n",
    "    soup = BeautifulSoup(r.content, 'html.parser')\n",
    "    list_pag = soup.select('ul.pageNav-main li')\n",
    "    if list_pag:\n",
    "        pag_max = soup.select('ul.pageNav-main li')[-1].a.text\n",
    "        pag_max = int(pag_max)\n",
    "        for page in range(2,pag_max+1):\n",
    "            nurl = f'{root_url}page-{page}'\n",
    "            links.append(nurl)\n",
    "        \n",
    "    return links"
   ]
  },
  {
   "cell_type": "code",
   "execution_count": 25,
   "metadata": {},
   "outputs": [],
   "source": [
    "lista_pagine = get_all_links('https://ilforumdeibrutti.is/index.php?forums/una-vita-da-brutto.6/')"
   ]
  },
  {
   "cell_type": "code",
   "execution_count": 26,
   "metadata": {},
   "outputs": [
    {
     "data": {
      "text/plain": [
       "['https://ilforumdeibrutti.is/index.php?forums/una-vita-da-brutto.6/',\n",
       " 'https://ilforumdeibrutti.is/index.php?forums/una-vita-da-brutto.6/page-2',\n",
       " 'https://ilforumdeibrutti.is/index.php?forums/una-vita-da-brutto.6/page-3',\n",
       " 'https://ilforumdeibrutti.is/index.php?forums/una-vita-da-brutto.6/page-4',\n",
       " 'https://ilforumdeibrutti.is/index.php?forums/una-vita-da-brutto.6/page-5',\n",
       " 'https://ilforumdeibrutti.is/index.php?forums/una-vita-da-brutto.6/page-6',\n",
       " 'https://ilforumdeibrutti.is/index.php?forums/una-vita-da-brutto.6/page-7',\n",
       " 'https://ilforumdeibrutti.is/index.php?forums/una-vita-da-brutto.6/page-8',\n",
       " 'https://ilforumdeibrutti.is/index.php?forums/una-vita-da-brutto.6/page-9',\n",
       " 'https://ilforumdeibrutti.is/index.php?forums/una-vita-da-brutto.6/page-10',\n",
       " 'https://ilforumdeibrutti.is/index.php?forums/una-vita-da-brutto.6/page-11',\n",
       " 'https://ilforumdeibrutti.is/index.php?forums/una-vita-da-brutto.6/page-12',\n",
       " 'https://ilforumdeibrutti.is/index.php?forums/una-vita-da-brutto.6/page-13',\n",
       " 'https://ilforumdeibrutti.is/index.php?forums/una-vita-da-brutto.6/page-14',\n",
       " 'https://ilforumdeibrutti.is/index.php?forums/una-vita-da-brutto.6/page-15',\n",
       " 'https://ilforumdeibrutti.is/index.php?forums/una-vita-da-brutto.6/page-16',\n",
       " 'https://ilforumdeibrutti.is/index.php?forums/una-vita-da-brutto.6/page-17',\n",
       " 'https://ilforumdeibrutti.is/index.php?forums/una-vita-da-brutto.6/page-18',\n",
       " 'https://ilforumdeibrutti.is/index.php?forums/una-vita-da-brutto.6/page-19',\n",
       " 'https://ilforumdeibrutti.is/index.php?forums/una-vita-da-brutto.6/page-20',\n",
       " 'https://ilforumdeibrutti.is/index.php?forums/una-vita-da-brutto.6/page-21',\n",
       " 'https://ilforumdeibrutti.is/index.php?forums/una-vita-da-brutto.6/page-22',\n",
       " 'https://ilforumdeibrutti.is/index.php?forums/una-vita-da-brutto.6/page-23',\n",
       " 'https://ilforumdeibrutti.is/index.php?forums/una-vita-da-brutto.6/page-24',\n",
       " 'https://ilforumdeibrutti.is/index.php?forums/una-vita-da-brutto.6/page-25',\n",
       " 'https://ilforumdeibrutti.is/index.php?forums/una-vita-da-brutto.6/page-26',\n",
       " 'https://ilforumdeibrutti.is/index.php?forums/una-vita-da-brutto.6/page-27',\n",
       " 'https://ilforumdeibrutti.is/index.php?forums/una-vita-da-brutto.6/page-28',\n",
       " 'https://ilforumdeibrutti.is/index.php?forums/una-vita-da-brutto.6/page-29',\n",
       " 'https://ilforumdeibrutti.is/index.php?forums/una-vita-da-brutto.6/page-30',\n",
       " 'https://ilforumdeibrutti.is/index.php?forums/una-vita-da-brutto.6/page-31',\n",
       " 'https://ilforumdeibrutti.is/index.php?forums/una-vita-da-brutto.6/page-32',\n",
       " 'https://ilforumdeibrutti.is/index.php?forums/una-vita-da-brutto.6/page-33',\n",
       " 'https://ilforumdeibrutti.is/index.php?forums/una-vita-da-brutto.6/page-34',\n",
       " 'https://ilforumdeibrutti.is/index.php?forums/una-vita-da-brutto.6/page-35',\n",
       " 'https://ilforumdeibrutti.is/index.php?forums/una-vita-da-brutto.6/page-36',\n",
       " 'https://ilforumdeibrutti.is/index.php?forums/una-vita-da-brutto.6/page-37',\n",
       " 'https://ilforumdeibrutti.is/index.php?forums/una-vita-da-brutto.6/page-38',\n",
       " 'https://ilforumdeibrutti.is/index.php?forums/una-vita-da-brutto.6/page-39',\n",
       " 'https://ilforumdeibrutti.is/index.php?forums/una-vita-da-brutto.6/page-40',\n",
       " 'https://ilforumdeibrutti.is/index.php?forums/una-vita-da-brutto.6/page-41',\n",
       " 'https://ilforumdeibrutti.is/index.php?forums/una-vita-da-brutto.6/page-42',\n",
       " 'https://ilforumdeibrutti.is/index.php?forums/una-vita-da-brutto.6/page-43',\n",
       " 'https://ilforumdeibrutti.is/index.php?forums/una-vita-da-brutto.6/page-44',\n",
       " 'https://ilforumdeibrutti.is/index.php?forums/una-vita-da-brutto.6/page-45',\n",
       " 'https://ilforumdeibrutti.is/index.php?forums/una-vita-da-brutto.6/page-46',\n",
       " 'https://ilforumdeibrutti.is/index.php?forums/una-vita-da-brutto.6/page-47',\n",
       " 'https://ilforumdeibrutti.is/index.php?forums/una-vita-da-brutto.6/page-48',\n",
       " 'https://ilforumdeibrutti.is/index.php?forums/una-vita-da-brutto.6/page-49',\n",
       " 'https://ilforumdeibrutti.is/index.php?forums/una-vita-da-brutto.6/page-50',\n",
       " 'https://ilforumdeibrutti.is/index.php?forums/una-vita-da-brutto.6/page-51',\n",
       " 'https://ilforumdeibrutti.is/index.php?forums/una-vita-da-brutto.6/page-52',\n",
       " 'https://ilforumdeibrutti.is/index.php?forums/una-vita-da-brutto.6/page-53',\n",
       " 'https://ilforumdeibrutti.is/index.php?forums/una-vita-da-brutto.6/page-54',\n",
       " 'https://ilforumdeibrutti.is/index.php?forums/una-vita-da-brutto.6/page-55',\n",
       " 'https://ilforumdeibrutti.is/index.php?forums/una-vita-da-brutto.6/page-56',\n",
       " 'https://ilforumdeibrutti.is/index.php?forums/una-vita-da-brutto.6/page-57',\n",
       " 'https://ilforumdeibrutti.is/index.php?forums/una-vita-da-brutto.6/page-58',\n",
       " 'https://ilforumdeibrutti.is/index.php?forums/una-vita-da-brutto.6/page-59',\n",
       " 'https://ilforumdeibrutti.is/index.php?forums/una-vita-da-brutto.6/page-60',\n",
       " 'https://ilforumdeibrutti.is/index.php?forums/una-vita-da-brutto.6/page-61',\n",
       " 'https://ilforumdeibrutti.is/index.php?forums/una-vita-da-brutto.6/page-62',\n",
       " 'https://ilforumdeibrutti.is/index.php?forums/una-vita-da-brutto.6/page-63',\n",
       " 'https://ilforumdeibrutti.is/index.php?forums/una-vita-da-brutto.6/page-64',\n",
       " 'https://ilforumdeibrutti.is/index.php?forums/una-vita-da-brutto.6/page-65',\n",
       " 'https://ilforumdeibrutti.is/index.php?forums/una-vita-da-brutto.6/page-66',\n",
       " 'https://ilforumdeibrutti.is/index.php?forums/una-vita-da-brutto.6/page-67',\n",
       " 'https://ilforumdeibrutti.is/index.php?forums/una-vita-da-brutto.6/page-68',\n",
       " 'https://ilforumdeibrutti.is/index.php?forums/una-vita-da-brutto.6/page-69',\n",
       " 'https://ilforumdeibrutti.is/index.php?forums/una-vita-da-brutto.6/page-70',\n",
       " 'https://ilforumdeibrutti.is/index.php?forums/una-vita-da-brutto.6/page-71',\n",
       " 'https://ilforumdeibrutti.is/index.php?forums/una-vita-da-brutto.6/page-72',\n",
       " 'https://ilforumdeibrutti.is/index.php?forums/una-vita-da-brutto.6/page-73',\n",
       " 'https://ilforumdeibrutti.is/index.php?forums/una-vita-da-brutto.6/page-74',\n",
       " 'https://ilforumdeibrutti.is/index.php?forums/una-vita-da-brutto.6/page-75',\n",
       " 'https://ilforumdeibrutti.is/index.php?forums/una-vita-da-brutto.6/page-76',\n",
       " 'https://ilforumdeibrutti.is/index.php?forums/una-vita-da-brutto.6/page-77',\n",
       " 'https://ilforumdeibrutti.is/index.php?forums/una-vita-da-brutto.6/page-78',\n",
       " 'https://ilforumdeibrutti.is/index.php?forums/una-vita-da-brutto.6/page-79',\n",
       " 'https://ilforumdeibrutti.is/index.php?forums/una-vita-da-brutto.6/page-80',\n",
       " 'https://ilforumdeibrutti.is/index.php?forums/una-vita-da-brutto.6/page-81',\n",
       " 'https://ilforumdeibrutti.is/index.php?forums/una-vita-da-brutto.6/page-82',\n",
       " 'https://ilforumdeibrutti.is/index.php?forums/una-vita-da-brutto.6/page-83',\n",
       " 'https://ilforumdeibrutti.is/index.php?forums/una-vita-da-brutto.6/page-84',\n",
       " 'https://ilforumdeibrutti.is/index.php?forums/una-vita-da-brutto.6/page-85',\n",
       " 'https://ilforumdeibrutti.is/index.php?forums/una-vita-da-brutto.6/page-86',\n",
       " 'https://ilforumdeibrutti.is/index.php?forums/una-vita-da-brutto.6/page-87',\n",
       " 'https://ilforumdeibrutti.is/index.php?forums/una-vita-da-brutto.6/page-88',\n",
       " 'https://ilforumdeibrutti.is/index.php?forums/una-vita-da-brutto.6/page-89',\n",
       " 'https://ilforumdeibrutti.is/index.php?forums/una-vita-da-brutto.6/page-90',\n",
       " 'https://ilforumdeibrutti.is/index.php?forums/una-vita-da-brutto.6/page-91',\n",
       " 'https://ilforumdeibrutti.is/index.php?forums/una-vita-da-brutto.6/page-92',\n",
       " 'https://ilforumdeibrutti.is/index.php?forums/una-vita-da-brutto.6/page-93',\n",
       " 'https://ilforumdeibrutti.is/index.php?forums/una-vita-da-brutto.6/page-94',\n",
       " 'https://ilforumdeibrutti.is/index.php?forums/una-vita-da-brutto.6/page-95',\n",
       " 'https://ilforumdeibrutti.is/index.php?forums/una-vita-da-brutto.6/page-96',\n",
       " 'https://ilforumdeibrutti.is/index.php?forums/una-vita-da-brutto.6/page-97',\n",
       " 'https://ilforumdeibrutti.is/index.php?forums/una-vita-da-brutto.6/page-98',\n",
       " 'https://ilforumdeibrutti.is/index.php?forums/una-vita-da-brutto.6/page-99',\n",
       " 'https://ilforumdeibrutti.is/index.php?forums/una-vita-da-brutto.6/page-100',\n",
       " 'https://ilforumdeibrutti.is/index.php?forums/una-vita-da-brutto.6/page-101',\n",
       " 'https://ilforumdeibrutti.is/index.php?forums/una-vita-da-brutto.6/page-102',\n",
       " 'https://ilforumdeibrutti.is/index.php?forums/una-vita-da-brutto.6/page-103',\n",
       " 'https://ilforumdeibrutti.is/index.php?forums/una-vita-da-brutto.6/page-104',\n",
       " 'https://ilforumdeibrutti.is/index.php?forums/una-vita-da-brutto.6/page-105',\n",
       " 'https://ilforumdeibrutti.is/index.php?forums/una-vita-da-brutto.6/page-106',\n",
       " 'https://ilforumdeibrutti.is/index.php?forums/una-vita-da-brutto.6/page-107',\n",
       " 'https://ilforumdeibrutti.is/index.php?forums/una-vita-da-brutto.6/page-108',\n",
       " 'https://ilforumdeibrutti.is/index.php?forums/una-vita-da-brutto.6/page-109',\n",
       " 'https://ilforumdeibrutti.is/index.php?forums/una-vita-da-brutto.6/page-110',\n",
       " 'https://ilforumdeibrutti.is/index.php?forums/una-vita-da-brutto.6/page-111',\n",
       " 'https://ilforumdeibrutti.is/index.php?forums/una-vita-da-brutto.6/page-112',\n",
       " 'https://ilforumdeibrutti.is/index.php?forums/una-vita-da-brutto.6/page-113',\n",
       " 'https://ilforumdeibrutti.is/index.php?forums/una-vita-da-brutto.6/page-114',\n",
       " 'https://ilforumdeibrutti.is/index.php?forums/una-vita-da-brutto.6/page-115',\n",
       " 'https://ilforumdeibrutti.is/index.php?forums/una-vita-da-brutto.6/page-116',\n",
       " 'https://ilforumdeibrutti.is/index.php?forums/una-vita-da-brutto.6/page-117',\n",
       " 'https://ilforumdeibrutti.is/index.php?forums/una-vita-da-brutto.6/page-118',\n",
       " 'https://ilforumdeibrutti.is/index.php?forums/una-vita-da-brutto.6/page-119',\n",
       " 'https://ilforumdeibrutti.is/index.php?forums/una-vita-da-brutto.6/page-120']"
      ]
     },
     "execution_count": 26,
     "metadata": {},
     "output_type": "execute_result"
    }
   ],
   "source": [
    "lista_pagine"
   ]
  },
  {
   "cell_type": "code",
   "execution_count": 27,
   "metadata": {},
   "outputs": [],
   "source": [
    "def get_all_threads(root_url,lista_pags):\n",
    "\n",
    "    '''\n",
    "    Prende in input un root_url VERO. Ad esempio https://ilforumdeibrutti.is \n",
    "    e una lista di pagine di elenchi di threads. Per ogni pagina estrae il link della pagina 1 di ogni thread\n",
    "    '''\n",
    "\n",
    "    #attenzione! root_url in questo caso è diverso da quello precedente\n",
    "    #per forum brutti è https://ilforumdeibrutti.is\n",
    "    lista_totale_threads = []\n",
    "    for pagina in lista_pags:\n",
    "        r = requests.get(pagina)\n",
    "        soup = BeautifulSoup(r.content, 'html.parser')\n",
    "        lista_threads_pagina = list(map(lambda x: root_url+x['href'],soup.select('.structItem-title a')))\n",
    "        lista_totale_threads.extend(lista_threads_pagina)\n",
    "    \n",
    "    return lista_totale_threads\n",
    "        "
   ]
  },
  {
   "cell_type": "code",
   "execution_count": 28,
   "metadata": {},
   "outputs": [],
   "source": [
    "all_threads = get_all_threads('https://ilforumdeibrutti.is',lista_pagine)"
   ]
  },
  {
   "cell_type": "code",
   "execution_count": 29,
   "metadata": {},
   "outputs": [
    {
     "name": "stderr",
     "output_type": "stream",
     "text": [
      "  0%|          | 0/2400 [00:00<?, ?it/s]"
     ]
    },
    {
     "name": "stderr",
     "output_type": "stream",
     "text": [
      "100%|██████████| 2400/2400 [11:13<00:00,  3.56it/s]\n"
     ]
    }
   ],
   "source": [
    "all_pages_all_threads = []\n",
    "for thread in tqdm(all_threads):\n",
    "    pagine_threads = get_all_links(thread) #per ogni thread, estraiamo i link di TUTTE LE PAGINE DEL THREAD\n",
    "    all_pages_all_threads.extend(pagine_threads)"
   ]
  },
  {
   "cell_type": "code",
   "execution_count": 30,
   "metadata": {},
   "outputs": [
    {
     "data": {
      "text/plain": [
       "2400"
      ]
     },
     "execution_count": 30,
     "metadata": {},
     "output_type": "execute_result"
    }
   ],
   "source": [
    "len(all_threads)"
   ]
  },
  {
   "cell_type": "code",
   "execution_count": 40,
   "metadata": {},
   "outputs": [
    {
     "data": {
      "text/plain": [
       "4403"
      ]
     },
     "execution_count": 40,
     "metadata": {},
     "output_type": "execute_result"
    }
   ],
   "source": [
    "len(all_pages_all_threads)"
   ]
  },
  {
   "cell_type": "code",
   "execution_count": 37,
   "metadata": {},
   "outputs": [],
   "source": [
    "import json"
   ]
  },
  {
   "cell_type": "code",
   "execution_count": 38,
   "metadata": {},
   "outputs": [],
   "source": [
    "with open('lista_threads_fdb.json','w') as file: #salviamo perché ci mette tanto\n",
    "    json.dump(all_pages_all_threads, file)"
   ]
  },
  {
   "cell_type": "markdown",
   "metadata": {},
   "source": [
    "# Riprendiamo la lista"
   ]
  },
  {
   "cell_type": "code",
   "execution_count": 39,
   "metadata": {},
   "outputs": [],
   "source": [
    "with open('lista_threads_fdb.json','r') as file:\n",
    "    all_pages_all_threads = json.load(file)"
   ]
  },
  {
   "cell_type": "code",
   "execution_count": 42,
   "metadata": {},
   "outputs": [],
   "source": [
    "def scrape_posts(pages_threads, file_path):\n",
    "\n",
    "    '''\n",
    "    Prende in input una lista con tutte le pagine di tutti i thread. \n",
    "    Per ogni pagina estrae i post e salva tutto in un file\n",
    "    '''\n",
    "\n",
    "    for thread in tqdm(pages_threads):\n",
    "        r = requests.get(thread)\n",
    "        soup = BeautifulSoup(r.content,'html.parser')\n",
    "        titolo = soup.select_one('.p-title-value').text\n",
    "        postss = soup.select('article.message')\n",
    "        for post in postss:\n",
    "            autore = post['data-author']\n",
    "            data = post.select_one('time')['datetime']\n",
    "            elem_testo = post.select_one('.bbWrapper')\n",
    "            testo = ''.join(elem_testo.find_all(string=True,recursive=False))\n",
    "\n",
    "            with open(file_path,'a',newline=\"\", encoding=\"UTF-8\") as file:\n",
    "                csv_writer = csv.writer(file, delimiter=',', quoting=csv.QUOTE_ALL)\n",
    "                riga = [titolo, autore, data, testo]\n",
    "                csv_writer.writerow(riga)"
   ]
  },
  {
   "cell_type": "code",
   "execution_count": 43,
   "metadata": {},
   "outputs": [
    {
     "name": "stderr",
     "output_type": "stream",
     "text": [
      "100%|██████████| 4403/4403 [24:33<00:00,  2.99it/s]  \n"
     ]
    }
   ],
   "source": [
    "scrape_posts(all_pages_all_threads,'./fdb_scraped_pulito.csv') #ecco qua, ci ha messo 29 minuti!!"
   ]
  },
  {
   "cell_type": "code",
   "execution_count": null,
   "metadata": {},
   "outputs": [],
   "source": []
  }
 ],
 "metadata": {
  "kernelspec": {
   "display_name": "pythonforjournalists",
   "language": "python",
   "name": "python3"
  },
  "language_info": {
   "codemirror_mode": {
    "name": "ipython",
    "version": 3
   },
   "file_extension": ".py",
   "mimetype": "text/x-python",
   "name": "python",
   "nbconvert_exporter": "python",
   "pygments_lexer": "ipython3",
   "version": "3.11.5"
  }
 },
 "nbformat": 4,
 "nbformat_minor": 2
}
