{
 "cells": [
  {
   "cell_type": "code",
   "execution_count": 1,
   "metadata": {},
   "outputs": [],
   "source": [
    "import pandas as pd\n",
    "import numpy as np\n",
    "import glob\n",
    "import os\n"
   ]
  },
  {
   "cell_type": "markdown",
   "metadata": {},
   "source": [
    "# Concat all raw csv"
   ]
  },
  {
   "cell_type": "markdown",
   "metadata": {},
   "source": [
    "Concat all raw csv and select only the text column along with the file label (the source)"
   ]
  },
  {
   "cell_type": "code",
   "execution_count": 30,
   "metadata": {},
   "outputs": [],
   "source": [
    "df_forum = pd.read_csv('../data/forum_scrape/fdb_scraped_pulito.csv')"
   ]
  },
  {
   "cell_type": "code",
   "execution_count": 31,
   "metadata": {},
   "outputs": [],
   "source": [
    "df_forum = df_forum.rename(columns={'Testo':'text'})\n",
    "df_forum['file_label'] = ['forum_fdb']*len(df_forum)\n",
    "df_forum = df_forum[['text','file_label']]"
   ]
  },
  {
   "cell_type": "code",
   "execution_count": 32,
   "metadata": {},
   "outputs": [
    {
     "name": "stderr",
     "output_type": "stream",
     "text": [
      "/var/folders/r3/t2r07q612snc9xmhh7_6wkqm0000gn/T/ipykernel_99479/1148672799.py:1: DtypeWarning: Columns (4,23) have mixed types. Specify dtype option on import or set low_memory=False.\n",
      "  df_az = pd.read_csv('../data/telegram/messaggi_telegram_azione_incel.csv')\n"
     ]
    }
   ],
   "source": [
    "df_az = pd.read_csv('../data/telegram/messaggi_telegram_azione_incel.csv')"
   ]
  },
  {
   "cell_type": "code",
   "execution_count": 33,
   "metadata": {},
   "outputs": [],
   "source": [
    "df_az = df_az.rename(columns={'message':'text'})\n",
    "df_az['file_label'] = ['telegram_az']*len(df_az)\n",
    "df_az = df_az[['text','file_label']]"
   ]
  },
  {
   "cell_type": "code",
   "execution_count": 34,
   "metadata": {},
   "outputs": [
    {
     "name": "stderr",
     "output_type": "stream",
     "text": [
      "/var/folders/r3/t2r07q612snc9xmhh7_6wkqm0000gn/T/ipykernel_99479/1859297291.py:1: DtypeWarning: Columns (4) have mixed types. Specify dtype option on import or set low_memory=False.\n",
      "  df_fdb = pd.read_csv('../data/telegram/messaggi_telegram_fdb.csv')\n"
     ]
    }
   ],
   "source": [
    "df_fdb = pd.read_csv('../data/telegram/messaggi_telegram_fdb.csv')"
   ]
  },
  {
   "cell_type": "code",
   "execution_count": 35,
   "metadata": {},
   "outputs": [],
   "source": [
    "df_fdb = df_fdb.rename(columns={'message':'text'})\n",
    "df_fdb['file_label'] = ['telegram_fdb']*len(df_fdb)\n",
    "df_fdb = df_fdb[['text','file_label']]"
   ]
  },
  {
   "cell_type": "code",
   "execution_count": 36,
   "metadata": {},
   "outputs": [],
   "source": [
    "df_merged = pd.concat([df_az,df_fdb, df_forum])"
   ]
  },
  {
   "cell_type": "markdown",
   "metadata": {},
   "source": [
    "We keep the index and save it as \"id\" in order to make it easier to access info from the raw datasets if needed"
   ]
  },
  {
   "cell_type": "code",
   "execution_count": 37,
   "metadata": {},
   "outputs": [],
   "source": [
    "df_merged.to_csv('../data/all_raw.csv', index_label='id')"
   ]
  }
 ],
 "metadata": {
  "kernelspec": {
   "display_name": "pythonforjournalists",
   "language": "python",
   "name": "python3"
  },
  "language_info": {
   "codemirror_mode": {
    "name": "ipython",
    "version": 3
   },
   "file_extension": ".py",
   "mimetype": "text/x-python",
   "name": "python",
   "nbconvert_exporter": "python",
   "pygments_lexer": "ipython3",
   "version": "3.11.5"
  }
 },
 "nbformat": 4,
 "nbformat_minor": 2
}
